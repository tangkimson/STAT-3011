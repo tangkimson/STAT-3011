{
 "cells": [
  {
   "cell_type": "code",
   "execution_count": null,
   "id": "38b6bd2a-f727-4487-b45c-ab93c4d5cf9c",
   "metadata": {},
   "outputs": [],
   "source": [
    "import pandas as pd\n",
    "from neuralforecast import NeuralForecast"
   ]
  },
  {
   "cell_type": "code",
   "execution_count": null,
   "id": "e5b364e4-f8ab-4a6d-a8d6-c0d32c1f1c30",
   "metadata": {},
   "outputs": [],
   "source": [
    "# Load and preprocess your dataset\n",
    "Y_df = pd.read_csv('../data/average_weekly_rating_messenger.csv')\n",
    "\n",
    "# Ensure the 'ds' column is datetime\n",
    "Y_df['ds'] = pd.to_datetime(Y_df.iloc[:, 0])\n",
    "\n",
    "# Ensure the 'y' column is numeric and handle any non-numeric issues\n",
    "Y_df['y'] = pd.to_numeric(Y_df.iloc[:, 1], errors='coerce')\n",
    "Y_df.dropna(subset=['y'], inplace=True)  # Drop rows where 'y' is NaN after conversion\n",
    "\n",
    "# Add unique_id as a constant value\n",
    "Y_df['unique_id'] = 'rating'\n",
    "\n",
    "# Keep only necessary columns\n",
    "Y_df = Y_df[['unique_id', 'ds', 'y']]\n",
    "\n",
    "# Check the DataFrame to confirm structure and types\n",
    "print(Y_df.dtypes)  # 'unique_id' should be object, 'ds' datetime64, 'y' float64\n",
    "print(Y_df.head())"
   ]
  },
  {
   "cell_type": "code",
   "execution_count": null,
   "id": "2b52e687-6217-4f95-ae31-2558b5355a03",
   "metadata": {},
   "outputs": [],
   "source": [
    "# Define validation and test sizes\n",
    "n_time = len(Y_df['ds'].unique())\n",
    "val_size = int(0.2 * n_time)\n",
    "test_size = int(0.2 * n_time)"
   ]
  },
  {
   "cell_type": "code",
   "execution_count": null,
   "id": "d49d92e0-2010-4dcc-b1ed-2b49593a81ea",
   "metadata": {},
   "outputs": [],
   "source": [
    "from neuralforecast.core import NeuralForecast\n",
    "from neuralforecast.models import Autoformer, PatchTST"
   ]
  },
  {
   "cell_type": "code",
   "execution_count": null,
   "id": "f6d859fc-c8c6-414b-b1ff-b39a16facda1",
   "metadata": {},
   "outputs": [],
   "source": [
    "horizon = 48  # Forecasting 1 years\n",
    "\n",
    "models = [\n",
    "    Autoformer(h=horizon,\n",
    "               input_size=horizon,\n",
    "               max_steps=200,\n",
    "               val_check_steps=50,\n",
    "               early_stop_patience_steps=3),\n",
    "    PatchTST(h=horizon,\n",
    "             input_size=horizon,\n",
    "             max_steps=200,\n",
    "             val_check_steps=50,\n",
    "             early_stop_patience_steps=3),\n",
    "]"
   ]
  },
  {
   "cell_type": "code",
   "execution_count": null,
   "id": "81e4ebcb-9add-4a60-9bb8-324549b1aa2f",
   "metadata": {},
   "outputs": [],
   "source": [
    "nf = NeuralForecast(\n",
    "    models=models,\n",
    "    freq='W'  # Weekly frequency for your dataset\n",
    ")\n",
    "\n",
    "Y_hat_df = nf.cross_validation(\n",
    "    df=Y_df,\n",
    "    val_size=val_size,\n",
    "    test_size=test_size,\n",
    "    n_windows=None\n",
    ")"
   ]
  },
  {
   "cell_type": "code",
   "execution_count": null,
   "id": "393b2cb7",
   "metadata": {},
   "outputs": [],
   "source": [
    "Y_hat_df.head()"
   ]
  },
  {
   "cell_type": "code",
   "execution_count": null,
   "id": "d4eb774e",
   "metadata": {},
   "outputs": [],
   "source": [
    "import matplotlib.pyplot as plt\n",
    "\n",
    "# Get the latest cutoff for filtering predictions\n",
    "latest_cutoff = Y_hat_df['cutoff'].max()\n",
    "Y_hat_filtered = Y_hat_df[Y_hat_df['cutoff'] == latest_cutoff]\n",
    "\n",
    "# Plot the results (both historical data and filtered future predictions)\n",
    "fig, ax = plt.subplots(figsize=(10, 6))\n",
    "\n",
    "# Plot historical data\n",
    "Y_df.set_index('ds')['y'].plot(ax=ax, label='Historical Data', color='blue', linewidth=2)\n",
    "\n",
    "# Plot filtered future predictions from the latest cutoff in cross-validation results\n",
    "Y_hat_filtered.set_index('ds')['Autoformer'].plot(ax=ax, label='Autoformer Predictions', color='orange', linewidth=2)\n",
    "\n",
    "# Predict zone\n",
    "prediction_start_date = Y_hat_filtered['ds'].min() \n",
    "plt.axvline(x=prediction_start_date, color='red', linestyle='--', linewidth=1, label='Prediction Start')\n",
    "\n",
    "# Formatting the plot\n",
    "ax.set_title('Messenger Rating Predictions Using Autoformer Model', fontsize=16)\n",
    "ax.set_xlabel('Date', fontsize=14)\n",
    "ax.set_ylabel('Rating', fontsize=14)\n",
    "\n",
    "ax.legend(loc='upper right')\n",
    "ax.grid()\n",
    "\n",
    "plt.tight_layout()\n",
    "plt.show()"
   ]
  },
  {
   "cell_type": "code",
   "execution_count": null,
   "id": "6b349a7a",
   "metadata": {},
   "outputs": [],
   "source": [
    "import matplotlib.pyplot as plt\n",
    "\n",
    "# Get the latest cutoff for filtering predictions\n",
    "latest_cutoff = Y_hat_df['cutoff'].max()\n",
    "Y_hat_filtered = Y_hat_df[Y_hat_df['cutoff'] == latest_cutoff]\n",
    "\n",
    "# Plot the results (both historical data and filtered future predictions)\n",
    "fig, ax = plt.subplots(figsize=(10, 6))\n",
    "\n",
    "# Plot historical data\n",
    "Y_df.set_index('ds')['y'].plot(ax=ax, label='Historical Data', color='blue', linewidth=2)\n",
    "\n",
    "# Plot filtered future predictions from the latest cutoff in cross-validation results\n",
    "Y_hat_filtered.set_index('ds')['PatchTST'].plot(ax=ax, label='PatchTST Predictions', color='green', linewidth=2)\n",
    "\n",
    "# Predict zone\n",
    "prediction_start_date = Y_hat_filtered['ds'].min() \n",
    "plt.axvline(x=prediction_start_date, color='red', linestyle='--', linewidth=1, label='Prediction Start')\n",
    "\n",
    "# Formatting the plot\n",
    "ax.set_title('Messenger Rating Predictions Using PatchTST Model', fontsize=16)\n",
    "ax.set_xlabel('Date', fontsize=14)\n",
    "ax.set_ylabel('Rating', fontsize=14)\n",
    "\n",
    "ax.legend(loc='upper right')\n",
    "ax.grid()\n",
    "\n",
    "plt.tight_layout()\n",
    "plt.show()"
   ]
  }
 ],
 "metadata": {
  "kernelspec": {
   "display_name": "Python 3 (ipykernel)",
   "language": "python",
   "name": "python3"
  },
  "language_info": {
   "codemirror_mode": {
    "name": "ipython",
    "version": 3
   },
   "file_extension": ".py",
   "mimetype": "text/x-python",
   "name": "python",
   "nbconvert_exporter": "python",
   "pygments_lexer": "ipython3",
   "version": "3.12.6"
  }
 },
 "nbformat": 4,
 "nbformat_minor": 5
}
