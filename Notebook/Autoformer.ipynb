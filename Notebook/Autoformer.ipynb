{
 "cells": [
  {
   "cell_type": "code",
   "execution_count": null,
   "id": "38b6bd2a-f727-4487-b45c-ab93c4d5cf9c",
   "metadata": {},
   "outputs": [],
   "source": [
    "import pandas as pd\n",
    "from neuralforecast import NeuralForecast"
   ]
  },
  {
   "cell_type": "code",
   "execution_count": null,
   "id": "e5b364e4-f8ab-4a6d-a8d6-c0d32c1f1c30",
   "metadata": {},
   "outputs": [],
   "source": [
    "# Load and preprocess your dataset\n",
    "Y_df = pd.read_csv('../data/average_weekly_rating_messenger.csv')\n",
    "\n",
    "# Ensure the 'ds' column is datetime\n",
    "Y_df['ds'] = pd.to_datetime(Y_df.iloc[:, 0])\n",
    "\n",
    "# Ensure the 'y' column is numeric and handle any non-numeric issues\n",
    "Y_df['y'] = pd.to_numeric(Y_df.iloc[:, 1], errors='coerce')\n",
    "Y_df.dropna(subset=['y'], inplace=True)  # Drop rows where 'y' is NaN after conversion\n",
    "\n",
    "# Add unique_id as a constant value\n",
    "Y_df['unique_id'] = 'rating'\n",
    "\n",
    "# Keep only necessary columns\n",
    "Y_df = Y_df[['unique_id', 'ds', 'y']]\n",
    "\n",
    "# Check the DataFrame to confirm structure and types\n",
    "print(Y_df.dtypes)  # 'unique_id' should be object, 'ds' datetime64, 'y' float64\n",
    "print(Y_df.head())"
   ]
  },
  {
   "cell_type": "code",
   "execution_count": null,
   "id": "2b52e687-6217-4f95-ae31-2558b5355a03",
   "metadata": {},
   "outputs": [],
   "source": []
  }
 ],
 "metadata": {
  "kernelspec": {
   "display_name": "Python 3 (ipykernel)",
   "language": "python",
   "name": "python3"
  },
  "language_info": {
   "codemirror_mode": {
    "name": "ipython",
    "version": 3
   },
   "file_extension": ".py",
   "mimetype": "text/x-python",
   "name": "python",
   "nbconvert_exporter": "python",
   "pygments_lexer": "ipython3",
   "version": "3.12.6"
  }
 },
 "nbformat": 4,
 "nbformat_minor": 5
}
