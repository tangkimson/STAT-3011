{
 "cells": [
  {
   "cell_type": "code",
   "execution_count": null,
   "metadata": {
    "vscode": {
     "languageId": "plaintext"
    }
   },
   "outputs": [],
   "source": [
    "import pandas as pd\n",
    "import numpy as np\n",
    "from neuralforecast import NeuralForecast\n",
    "from neuralforecast.models import Autoformer, PatchTST\n",
    "import matplotlib.pyplot as plt"
   ]
  },
  {
   "cell_type": "code",
   "execution_count": null,
   "metadata": {
    "vscode": {
     "languageId": "plaintext"
    }
   },
   "outputs": [],
   "source": [
    "# Load and preprocess your dataset\n",
    "Y_df = pd.read_csv('../data/average_weekly_rating_messenger.csv')\n",
    "\n",
    "# Ensure the 'ds' column is datetime\n",
    "Y_df['ds'] = pd.to_datetime(Y_df.iloc[:, 0])\n",
    "\n",
    "# Ensure the 'y' column is numeric and handle any non-numeric issues\n",
    "Y_df['y'] = pd.to_numeric(Y_df.iloc[:, 1], errors='coerce')\n",
    "Y_df.dropna(subset=['y'], inplace=True)  # Drop rows where 'y' is NaN after conversion\n",
    "\n",
    "# Add unique_id as a constant value\n",
    "Y_df['unique_id'] = 'rating'\n",
    "\n",
    "# Keep only necessary columns\n",
    "Y_df = Y_df[['unique_id', 'ds', 'y']]"
   ]
  },
  {
   "cell_type": "code",
   "execution_count": null,
   "metadata": {
    "vscode": {
     "languageId": "plaintext"
    }
   },
   "outputs": [],
   "source": [
    "print(Y_df.dtypes) \n",
    "print(Y_df.head())"
   ]
  },
  {
   "cell_type": "code",
   "execution_count": null,
   "metadata": {
    "vscode": {
     "languageId": "plaintext"
    }
   },
   "outputs": [],
   "source": [
    "horizon = 48  # Forecasting 48 weeks (around 1 year)\n",
    "\n",
    "# Define the Informer model\n",
    "models = [\n",
    "    Autoformer(\n",
    "        h=horizon,                 \n",
    "        input_size=48,               \n",
    "        max_steps=100,              \n",
    "        val_check_steps=100,         \n",
    "    ),\n",
    "    PatchTST(\n",
    "        h=horizon,                  \n",
    "        input_size=48,               \n",
    "        max_steps=100,              \n",
    "        val_check_steps=100,        \n",
    "    ),\n",
    "]"
   ]
  },
  {
   "cell_type": "code",
   "execution_count": null,
   "metadata": {
    "vscode": {
     "languageId": "plaintext"
    }
   },
   "outputs": [],
   "source": [
    "nf = NeuralForecast(\n",
    "    models=models,\n",
    "    freq='W'  # Weekly frequency for your dataset\n",
    ")\n",
    "\n",
    "# Fit the model on the dataset (training the model)\n",
    "nf.fit(df=Y_df)\n",
    "\n",
    "# Predict future values using the trained model (horizon is defined above)\n",
    "Y_hat_future = nf.predict().reset_index(drop=True)"
   ]
  }
 ],
 "metadata": {
  "language_info": {
   "name": "python"
  }
 },
 "nbformat": 4,
 "nbformat_minor": 2
}
