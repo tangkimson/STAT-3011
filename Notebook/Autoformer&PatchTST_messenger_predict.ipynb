{
 "cells": [
  {
   "cell_type": "code",
   "execution_count": null,
   "metadata": {
    "vscode": {
     "languageId": "plaintext"
    }
   },
   "outputs": [],
   "source": [
    "import pandas as pd\n",
    "import numpy as np\n",
    "from neuralforecast import NeuralForecast\n",
    "from neuralforecast.models import Autoformer, PatchTST\n",
    "import matplotlib.pyplot as plt"
   ]
  },
  {
   "cell_type": "code",
   "execution_count": null,
   "metadata": {
    "vscode": {
     "languageId": "plaintext"
    }
   },
   "outputs": [],
   "source": [
    "# Load and preprocess your dataset\n",
    "Y_df = pd.read_csv('../data/average_weekly_rating_messenger.csv')\n",
    "\n",
    "# Ensure the 'ds' column is datetime\n",
    "Y_df['ds'] = pd.to_datetime(Y_df.iloc[:, 0])\n",
    "\n",
    "# Ensure the 'y' column is numeric and handle any non-numeric issues\n",
    "Y_df['y'] = pd.to_numeric(Y_df.iloc[:, 1], errors='coerce')\n",
    "Y_df.dropna(subset=['y'], inplace=True)  # Drop rows where 'y' is NaN after conversion\n",
    "\n",
    "# Add unique_id as a constant value\n",
    "Y_df['unique_id'] = 'rating'\n",
    "\n",
    "# Keep only necessary columns\n",
    "Y_df = Y_df[['unique_id', 'ds', 'y']]"
   ]
  }
 ],
 "metadata": {
  "language_info": {
   "name": "python"
  }
 },
 "nbformat": 4,
 "nbformat_minor": 2
}
