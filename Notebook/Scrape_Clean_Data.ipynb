{
 "cells": [
  {
   "cell_type": "code",
   "execution_count": 2,
   "id": "530c89ce-7a4b-428a-b0fc-7b7e19a831ac",
   "metadata": {},
   "outputs": [
    {
     "name": "stdout",
     "output_type": "stream",
     "text": [
      "Requirement already satisfied: google-play-scraper in c:\\users\\admin\\anaconda3\\lib\\site-packages (1.2.7)\n",
      "Requirement already satisfied: pandas in c:\\users\\admin\\anaconda3\\lib\\site-packages (2.2.2)\n",
      "Requirement already satisfied: numpy>=1.26.0 in c:\\users\\admin\\anaconda3\\lib\\site-packages (from pandas) (1.26.4)\n",
      "Requirement already satisfied: python-dateutil>=2.8.2 in c:\\users\\admin\\anaconda3\\lib\\site-packages (from pandas) (2.9.0.post0)\n",
      "Requirement already satisfied: pytz>=2020.1 in c:\\users\\admin\\anaconda3\\lib\\site-packages (from pandas) (2024.1)\n",
      "Requirement already satisfied: tzdata>=2022.7 in c:\\users\\admin\\anaconda3\\lib\\site-packages (from pandas) (2023.3)\n",
      "Requirement already satisfied: six>=1.5 in c:\\users\\admin\\anaconda3\\lib\\site-packages (from python-dateutil>=2.8.2->pandas) (1.16.0)\n",
      "Note: you may need to restart the kernel to use updated packages.\n"
     ]
    }
   ],
   "source": [
    "pip install google-play-scraper pandas"
   ]
  },
  {
   "cell_type": "code",
   "execution_count": 3,
   "id": "62b3e1bb-a004-4b73-94cc-1def454dc39b",
   "metadata": {},
   "outputs": [
    {
     "name": "stdout",
     "output_type": "stream",
     "text": [
      "Data has been saved to messenger_reviews.csv\n"
     ]
    }
   ],
   "source": [
    "import pandas as pd\n",
    "from google_play_scraper import reviews, Sort\n",
    "\n",
    "# Define the app ID for Messenger on Google Play\n",
    "app_id = 'com.facebook.orca'\n",
    "\n",
    "# Fetch reviews from Google Play (Vietnam locale)\n",
    "messenger_reviews, _ = reviews(\n",
    "    app_id,\n",
    "    lang='vi',  # Language set to Vietnamese\n",
    "    country='vn',  # Country set to Vietnam\n",
    "    sort=Sort.NEWEST,  # Sort by newest reviews\n",
    "    count=100  # Number of reviews to fetch\n",
    ")\n",
    "\n",
    "# Select specific columns from the fetched data\n",
    "review_data = [\n",
    "    {\n",
    "        'userName': review['userName'],\n",
    "        'score': review['score'],\n",
    "        'content': review['content'],\n",
    "        'at': review['at'],\n",
    "        'thumbsUpCount': review['thumbsUpCount'],\n",
    "        'reviewCreatedVersion': review['reviewCreatedVersion']\n",
    "    }\n",
    "    for review in messenger_reviews\n",
    "]\n",
    "\n",
    "# Create a DataFrame and save it to a CSV file\n",
    "df = pd.DataFrame(review_data)\n",
    "df.to_csv('first_messenger_reviews.csv', index=False, encoding='utf-8')\n",
    "\n",
    "print(\"Data has been saved to messenger_reviews.csv\")"
   ]
  },
  {
   "cell_type": "code",
   "execution_count": null,
   "id": "d573889c-61e9-40d2-aa4a-ca9e46c16717",
   "metadata": {},
   "outputs": [],
   "source": [
    "import pandas as pd\n",
    "from google_play_scraper import reviews, Sort\n",
    "\n",
    "# Define the app ID for Snapchat on Google Play\n",
    "app_id = 'com.snapchat.android'\n",
    "\n",
    "# Fetch reviews from Google Play (Vietnam locale)\n",
    "snapchat_reviews, _ = reviews(\n",
    "    app_id,\n",
    "    lang='vi',  # Language in Vietnamese\n",
    "    country='vn',  # Country set to Vietnam\n",
    "    sort=Sort.NEWEST,  # Sort by newest reviews\n",
    "    count=100  # Number of reviews to fetch\n",
    ")\n",
    "\n",
    "# Select specific columns from the fetched data\n",
    "review_data = [\n",
    "    {\n",
    "        'userName': review['userName'],\n",
    "        'score': review['score'],\n",
    "        'content': review['content'],\n",
    "        'at': review['at'],\n",
    "        'thumbsUpCount': review['thumbsUpCount'],\n",
    "        'reviewCreatedVersion': review['reviewCreatedVersion']\n",
    "    }\n",
    "    for review in snapchat_reviews\n",
    "]\n",
    "\n",
    "# Create a DataFrame and save it to a CSV file\n",
    "df = pd.DataFrame(review_data)\n",
    "df.to_csv('first_snapchat_reviews.csv', index=False, encoding='utf-8')\n",
    "\n",
    "print(\"Data has been saved to snapchat_reviews.csv\")"
   ]
  },
  {
   "cell_type": "code",
   "execution_count": null,
   "id": "8c164263-e23d-447e-a8ee-4cc891570e2c",
   "metadata": {},
   "outputs": [],
   "source": [
    "import pandas as pd\n",
    "\n",
    "# Load the dataset\n",
    "df = pd.read_csv('first_messenger_reviews.csv')\n",
    "\n",
    "# Convert the 'at' column to datetime for proper filtering\n",
    "df['at'] = pd.to_datetime(df['at'], errors='coerce')\n",
    "\n",
    "# Filter out rows with empty 'reviewCreatedVersion'\n",
    "df_filtered = df[df['reviewCreatedVersion'].notna()]\n",
    "\n",
    "# Filter the dataset for reviews between 1/1/2020 and 10/31/2024\n",
    "start_date = '2020-01-01'\n",
    "end_date = '2024-10-31'\n",
    "df_filtered = df_filtered[(df_filtered['at'] >= start_date) & (df_filtered['at'] <= end_date)]\n",
    "\n",
    "# Save the filtered dataset to a new CSV file\n",
    "df_filtered.to_csv('messenger_reviews.csv', index=False)\n",
    "\n",
    "print(\"Filtered dataset saved as 'filtered_messenger_reviews.csv'\")"
   ]
  },
  {
   "cell_type": "code",
   "execution_count": null,
   "id": "5e731ed4-71ee-478d-a8dd-7e72951e58aa",
   "metadata": {},
   "outputs": [],
   "source": [
    "import pandas as pd\n",
    "\n",
    "# Load the dataset\n",
    "df = pd.read_csv('first_snapchat_reviews.csv')\n",
    "\n",
    "# Convert the 'at' column to datetime for proper filtering\n",
    "df['at'] = pd.to_datetime(df['at'], errors='coerce')\n",
    "\n",
    "# Filter out rows with empty 'reviewCreatedVersion'\n",
    "df_filtered = df[df['reviewCreatedVersion'].notna()]\n",
    "\n",
    "# Filter the dataset for reviews between 1/1/2020 and 10/31/2024\n",
    "start_date = '2020-01-01'\n",
    "end_date = '2024-10-31'\n",
    "df_filtered = df_filtered[(df_filtered['at'] >= start_date) & (df_filtered['at'] <= end_date)]\n",
    "\n",
    "# Save the filtered dataset to a new CSV file\n",
    "df_filtered.to_csv('snapchat_reviews.csv', index=False)\n",
    "\n",
    "print(\"Filtered dataset saved as 'filtered_messenger_reviews.csv'\")"
   ]
  }
 ],
 "metadata": {
  "kernelspec": {
   "display_name": "Python 3 (ipykernel)",
   "language": "python",
   "name": "python3"
  },
  "language_info": {
   "codemirror_mode": {
    "name": "ipython",
    "version": 3
   },
   "file_extension": ".py",
   "mimetype": "text/x-python",
   "name": "python",
   "nbconvert_exporter": "python",
   "pygments_lexer": "ipython3",
   "version": "3.12.4"
  }
 },
 "nbformat": 4,
 "nbformat_minor": 5
}
