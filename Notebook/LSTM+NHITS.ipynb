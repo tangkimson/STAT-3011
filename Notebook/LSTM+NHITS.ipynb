{
 "cells": [
  {
   "cell_type": "code",
   "execution_count": null,
   "id": "dd0a508c-1557-41c9-8765-b63493e2695b",
   "metadata": {},
   "outputs": [],
   "source": [
    "from neuralforecast import NeuralForecast\n",
    "from neuralforecast.models import LSTM, NHITS\n",
    "import pandas as pd\n",
    "import matplotlib.pyplot as plt"
   ]
  },
  {
   "cell_type": "code",
   "execution_count": null,
   "id": "a6445315-e545-420f-8a56-4c6f7d0219e1",
   "metadata": {},
   "outputs": [],
   "source": [
    "df = pd.read_csv('../data/cleaned_data/average_monthly_rating_messenger.csv')\n",
    "df['Month-Year'] = pd.to_datetime(df['Month-Year'], format='%Y-%m')\n",
    "df.rename(columns={'Month-Year': 'ds', 'averageRating': 'y'}, inplace=True)\n",
    "df['ds'] = pd.to_datetime(df['ds'])\n",
    "df['unique_id'] = 0\n",
    "\n",
    "Y_df = df \n",
    "Y_df.head()"
   ]
  },
  {
   "cell_type": "code",
   "execution_count": null,
   "id": "0235f218-6c63-4d0b-86f9-ae2f283a5205",
   "metadata": {},
   "outputs": [],
   "source": [
    "import numpy as np\n",
    "from neuralforecast import NeuralForecast\n",
    "from neuralforecast.models import NHITS, LSTM\n",
    "from sklearn.metrics import mean_squared_error, mean_absolute_error\n",
    "\n",
    "# Calculate the split point (80% for training)\n",
    "split_point = int(len(Y_df) * 0.8)\n",
    "Y_train = Y_df.iloc[:split_point].copy()\n",
    "Y_test = Y_df.iloc[split_point:].copy()\n",
    "\n",
    "# Set horizon to match test set size\n",
    "horizon = len(Y_test)\n",
    "print(f\"\\nHorizon length: {horizon}\")\n",
    "\n",
    "# Define models\n",
    "models = [\n",
    "    LSTM(\n",
    "        h=horizon,\n",
    "        max_steps=500,\n",
    "        scaler_type='standard',\n",
    "        encoder_hidden_size=64,\n",
    "        decoder_hidden_size=64,\n",
    "    ),\n",
    "    NHITS(\n",
    "        h=horizon,\n",
    "        input_size=2 * horizon,\n",
    "        max_steps=100,\n",
    "        n_freq_downsample=[2, 1, 1]\n",
    "    )\n",
    "]"
   ]
  }
 ],
 "metadata": {
  "kernelspec": {
   "display_name": "Python 3 (ipykernel)",
   "language": "python",
   "name": "python3"
  },
  "language_info": {
   "codemirror_mode": {
    "name": "ipython",
    "version": 3
   },
   "file_extension": ".py",
   "mimetype": "text/x-python",
   "name": "python",
   "nbconvert_exporter": "python",
   "pygments_lexer": "ipython3",
   "version": "3.12.6"
  }
 },
 "nbformat": 4,
 "nbformat_minor": 5
}
