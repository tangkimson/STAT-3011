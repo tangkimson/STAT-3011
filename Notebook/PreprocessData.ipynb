{
 "cells": [
  {
   "cell_type": "code",
   "execution_count": null,
   "id": "a162107d-6343-443d-afe6-c756a9c46e97",
   "metadata": {},
   "outputs": [],
   "source": [
    "import pandas as pd\n",
    "\n",
    "# Load the dataset\n",
    "file_path = '../data/snapchat_reviews.csv'\n",
    "data = pd.read_csv(file_path, usecols=['score', 'at', 'reviewCreatedVersion'])\n",
    "\n",
    "# Remove rows where 'reviewCreatedVersion' is missing\n",
    "data.dropna(subset=['reviewCreatedVersion'], inplace=True)\n",
    "\n",
    "# Convert 'at' column to datetime\n",
    "data['at'] = pd.to_datetime(data['at'], errors='coerce')\n",
    "data.dropna(subset=['at'], inplace=True)  # Drop rows where 'at' could not be parsed to a datetime\n",
    "\n",
    "# Filter date range from 1/1/2020 to 10/31/2024\n",
    "start_date = '2020-01-01'\n",
    "end_date = '2024-10-31'\n",
    "data = data[(data['at'] >= start_date) & (data['at'] < end_date)]\n",
    "\n",
    "# Group by weekly intervals and calculate the average rating\n",
    "data.set_index('at', inplace=True)  # Set 'at' as the index for resampling\n",
    "weekly_avg = data['score'].resample('W').mean().reset_index()  # Weekly frequency with exact dates\n",
    "weekly_avg.rename(columns={'score': 'averageRating'}, inplace=True)\n",
    "weekly_avg = weekly_avg.sort_values(by='at')  # Sort by date\n",
    "\n",
    "# Save the result\n",
    "weekly_avg_path = '../data/average_weekly_rating_snapchat.csv'\n",
    "weekly_avg.to_csv(weekly_avg_path, index=False)"
   ]
  }
 ],
 "metadata": {
  "kernelspec": {
   "display_name": "Python 3 (ipykernel)",
   "language": "python",
   "name": "python3"
  },
  "language_info": {
   "codemirror_mode": {
    "name": "ipython",
    "version": 3
   },
   "file_extension": ".py",
   "mimetype": "text/x-python",
   "name": "python",
   "nbconvert_exporter": "python",
   "pygments_lexer": "ipython3",
   "version": "3.12.6"
  }
 },
 "nbformat": 4,
 "nbformat_minor": 5
}
