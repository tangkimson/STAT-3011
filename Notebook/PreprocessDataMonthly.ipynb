{
 "cells": [
  {
   "cell_type": "code",
   "execution_count": null,
   "id": "1db01a98-067b-45fa-a985-1dbf5a83cb09",
   "metadata": {},
   "outputs": [],
   "source": [
    "import pandas as pd\n",
    "\n",
    "# Load the dataset\n",
    "file_path = '../data/snapchat_reviews.csv'\n",
    "data = pd.read_csv(file_path, usecols=['score', 'at', 'reviewCreatedVersion'])\n",
    "\n",
    "# Remove rows where 'reviewCreatedVersion' is missing\n",
    "data.dropna(subset=['reviewCreatedVersion'], inplace=True)\n",
    "\n",
    "# Convert 'at' column to datetime\n",
    "data['at'] = pd.to_datetime(data['at'], errors='coerce')\n",
    "data.dropna(subset=['at'], inplace=True)  # Drop rows where 'at' could not be parsed to a datetime\n",
    "\n",
    "# Filter date range from 1/1/2020 to 10/31/2024\n",
    "start_date = '2020-01-01'\n",
    "end_date = '2024-10-31'\n",
    "data = data[(data['at'] >= start_date) & (data['at'] < end_date)]\n",
    "\n",
    "# Group by monthly intervals and calculate the average rating\n",
    "data['Month-Year'] = data['at'].dt.to_period('M').dt.strftime('%B-%Y')  # Convert to \"Month-Year\" format\n",
    "monthly_avg = data.groupby('Month-Year')['score'].mean().reset_index()  # Group by \"Month-Year\" and calculate mean\n",
    "monthly_avg.rename(columns={'score': 'averageRating'}, inplace=True)  # Rename score column\n",
    "\n",
    "# Save the result\n",
    "monthly_avg_path = '../data/cleaned_data/average_monthly_rating_snapchat.csv'\n",
    "monthly_avg.to_csv(monthly_avg_path, index=False)"
   ]
  }
 ],
 "metadata": {
  "kernelspec": {
   "display_name": "Python 3 (ipykernel)",
   "language": "python",
   "name": "python3"
  },
  "language_info": {
   "codemirror_mode": {
    "name": "ipython",
    "version": 3
   },
   "file_extension": ".py",
   "mimetype": "text/x-python",
   "name": "python",
   "nbconvert_exporter": "python",
   "pygments_lexer": "ipython3",
   "version": "3.12.6"
  }
 },
 "nbformat": 4,
 "nbformat_minor": 5
}
